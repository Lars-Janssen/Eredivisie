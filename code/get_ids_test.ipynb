{
 "cells": [
  {
   "cell_type": "code",
   "execution_count": 3,
   "metadata": {},
   "outputs": [
    {
     "name": "stdout",
     "output_type": "stream",
     "text": [
      "1962\n",
      "240\n"
     ]
    }
   ],
   "source": [
    "\"\"\"\n",
    "Get all the match ids for a certain season\n",
    "\"\"\"\n",
    "\n",
    "\n",
    "import requests\n",
    "from bs4 import BeautifulSoup\n",
    "import os\n",
    "import csv\n",
    "from time import sleep\n",
    "\n",
    "season = 1962 - 1954\n",
    "year = season + 1954\n",
    "print(year)\n",
    "season_id = str(season) if season >= 10 else \"0\" + str(season)\n",
    "\n",
    "URL = \"https://www.voetbalstats.nl/listjaarere.php?seizoenid=\" + season_id\n",
    "page = requests.get(URL)\n",
    "\n",
    "soup = BeautifulSoup(page.content, \"html.parser\")\n",
    "\n",
    "td_elements = soup.find_all(\"td\", class_=\"linkere\")\n",
    "\n",
    "wedstrijden = []\n",
    "for td in td_elements:\n",
    "    a_tag = td.find(\"a\", href=True)\n",
    "    if a_tag and a_tag[\"href\"].startswith(\"opstelere\"):\n",
    "        wedstrijden.append(a_tag[\"href\"])\n",
    "\n",
    "wedstrijden = list(set(wedstrijden))\n",
    "print(len(wedstrijden))\n",
    "\n",
    "ids = [int(x.split(\"=\", 1)[1]) for x in wedstrijden]\n"
   ]
  },
  {
   "cell_type": "code",
   "execution_count": 5,
   "metadata": {},
   "outputs": [
    {
     "data": {
      "text/plain": [
       "240"
      ]
     },
     "execution_count": 5,
     "metadata": {},
     "output_type": "execute_result"
    }
   ],
   "source": [
    "len(wedstrijden)"
   ]
  },
  {
   "cell_type": "code",
   "execution_count": null,
   "metadata": {},
   "outputs": [],
   "source": []
  }
 ],
 "metadata": {
  "kernelspec": {
   "display_name": "Python 3",
   "language": "python",
   "name": "python3"
  },
  "language_info": {
   "codemirror_mode": {
    "name": "ipython",
    "version": 3
   },
   "file_extension": ".py",
   "mimetype": "text/x-python",
   "name": "python",
   "nbconvert_exporter": "python",
   "pygments_lexer": "ipython3",
   "version": "3.10.12"
  }
 },
 "nbformat": 4,
 "nbformat_minor": 2
}
