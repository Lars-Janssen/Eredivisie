{
 "cells": [
  {
   "cell_type": "code",
   "execution_count": 1,
   "metadata": {},
   "outputs": [],
   "source": [
    "import pandas as pd\n",
    "import matplotlib.pyplot as plt\n",
    "import numpy as np\n",
    "from collections import Counter\n",
    "import os"
   ]
  },
  {
   "cell_type": "code",
   "execution_count": null,
   "metadata": {},
   "outputs": [],
   "source": [
    "\"\"\"  \n",
    "    Change all the names to their canonical version from https://eredivisie.nl/stats/historisch/\n",
    "\"\"\"\n",
    "\n",
    "for year in range(1956, 2024):\n",
    "\n",
    "    # Ignore 2019/20 again\n",
    "    if year == 2019:\n",
    "        continue\n",
    "    \n",
    "    # Load the results in a dataframe\n",
    "    path = \"../processed data/\" + str(year) + \"/uitslagen\" + str(year) + \".csv\"\n",
    "    dfy = pd.read_csv(path)\n",
    "\n",
    "    # Replace the names\n",
    "    dfy = dfy.replace(\"ADO\", \"ADO Den Haag\")\n",
    "    dfy = dfy.replace(\"AVC Heracles\", \"Heracles Almelo\")\n",
    "    dfy = dfy.replace(\"AZ '67\", \"AZ\")\n",
    "    dfy = dfy.replace(\"BVV Den Bosch\", \"FC Den Bosch\")\n",
    "    dfy = dfy.replace(\"Cambuur Leeuwarden\", \"SC Cambuur\")\n",
    "    dfy = dfy.replace(\"DS '79\", \"FC Dordrecht\")\n",
    "    dfy = dfy.replace(\"DWS\", \"AFC DWS\")\n",
    "    dfy = dfy.replace(\"DWS/Amsterdam\", \"AFC DWS\")\n",
    "    dfy = dfy.replace(\"Dordrecht '90\", \"FC Dordrecht\")\n",
    "    dfy = dfy.replace(\"EVV Eindhoven\", \"FC Eindhoven\")\n",
    "    dfy = dfy.replace(\"Elinkwijk\", \"USV Elinkwijk\")\n",
    "    dfy = dfy.replace(\"FC Den Bosch '67\", \"FC Den Bosch\")\n",
    "    dfy = dfy.replace(\"FC Den Haag\", \"ADO Den Haag\")\n",
    "    dfy = dfy.replace(\"FC Den Haag/ADO\", \"ADO Den Haag\")\n",
    "    dfy = dfy.replace(\"FC VVV\", \"VVV-Venlo\")\n",
    "    dfy = dfy.replace(\"FC Zwolle\", \"PEC Zwolle\")\n",
    "    dfy = dfy.replace(\"Feijenoord\", \"Feyenoord\")\n",
    "    dfy = dfy.replace(\"Fortuna Sittardia Combinatie\", \"Fortuna Sittard\")\n",
    "    dfy = dfy.replace(\"Go Ahead\", \"Go Ahead Eagles\")\n",
    "    dfy = dfy.replace(\"Haarlem\", \"HFC Haarlem\")\n",
    "    dfy = dfy.replace(\"MVV\", \"MVV Maastricht\")\n",
    "    dfy = dfy.replace(\"NAC\", \"NAC Breda\")\n",
    "    dfy = dfy.replace(\"NEC\", \"N.E.C.\")\n",
    "    dfy = dfy.replace(\"PEC Zwolle '82\", \"PEC Zwolle\")\n",
    "    dfy = dfy.replace(\"RKC\", \"RKC Waalwijk\")\n",
    "    dfy = dfy.replace(\"RKSV Volendam\", \"FC Volendam\")\n",
    "    dfy = dfy.replace(\"RV & AV Excelsior\", \"Excelsior Rotterdam\")\n",
    "    dfy = dfy.replace(\"Roda JC\", \"Roda JC Kerkrade\")\n",
    "    dfy = dfy.replace(\"SBV Excelsior\", \"Excelsior Rotterdam\")\n",
    "    dfy = dfy.replace(\"SC Heracles '74\", \"Heracles Almelo\")\n",
    "    dfy = dfy.replace(\"SHS\", \"Holland Sport\")\n",
    "    dfy = dfy.replace(\"SVV/Dordrecht '90\", \"FC Dordrecht\")\n",
    "    dfy = dfy.replace(\"Sparta\", \"Sparta Rotterdam\")\n",
    "    dfy = dfy.replace(\"Sportclub Excelsior\", \"Excelsior Rotterdam\")\n",
    "    dfy = dfy.replace(\"Veendam\", \"SC Veendam\")\n",
    "    dfy = dfy.replace(\"VVV\", \"VVV-Venlo\")\n",
    "    dfy = dfy.replace(\"Wageningen\", \"FC Wageningen\")\n",
    "    dfy = dfy.replace(\"Xerxes\", \"Xerxes/DHC\")\n",
    "\n",
    "    # Write the new dataframe back\n",
    "    dfy.to_csv(path, index=False)"
   ]
  },
  {
   "cell_type": "code",
   "execution_count": null,
   "metadata": {},
   "outputs": [],
   "source": []
  }
 ],
 "metadata": {
  "kernelspec": {
   "display_name": "Python 3",
   "language": "python",
   "name": "python3"
  },
  "language_info": {
   "codemirror_mode": {
    "name": "ipython",
    "version": 3
   },
   "file_extension": ".py",
   "mimetype": "text/x-python",
   "name": "python",
   "nbconvert_exporter": "python",
   "pygments_lexer": "ipython3",
   "version": "3.10.12"
  }
 },
 "nbformat": 4,
 "nbformat_minor": 2
}
